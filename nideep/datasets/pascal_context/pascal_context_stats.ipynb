{
 "cells": [
  {
   "cell_type": "code",
   "execution_count": 1,
   "metadata": {
    "collapsed": false
   },
   "outputs": [
    {
     "name": "stdout",
     "output_type": "stream",
     "text": [
      "Done importing\n"
     ]
    }
   ],
   "source": [
    "import numpy as np\n",
    "\n",
    "import matplotlib.pyplot as plt\n",
    "%matplotlib inline\n",
    "\n",
    "from eval import Eval\n",
    "from eval import Pairwise\n",
    "from eval import Mode\n",
    "\n",
    "print(\"Done importing\")"
   ]
  },
  {
   "cell_type": "markdown",
   "metadata": {},
   "source": [
    "Count no. of samples"
   ]
  },
  {
   "cell_type": "code",
   "execution_count": 9,
   "metadata": {
    "collapsed": false
   },
   "outputs": [
    {
     "name": "stdout",
     "output_type": "stream",
     "text": [
      "4997 samples in /home/kashefy/data/PASCAL-Context/context_imgs_train_lmdb\n",
      "5105 samples in /home/kashefy/data/PASCAL-Context/context_imgs_val_lmdb\n",
      "4997 samples in /home/kashefy/data/PASCAL-Context/context_labels_59_train_lmdb\n",
      "5105 samples in /home/kashefy/data/PASCAL-Context/context_labels_59_val_lmdb\n"
     ]
    }
   ],
   "source": [
    "import lmdb\n",
    "import os\n",
    "\n",
    "paths = [os.path.expanduser('~/data/PASCAL-Context/context_imgs_train_lmdb'),\n",
    "         os.path.expanduser('~/data/PASCAL-Context/context_imgs_val_lmdb'),\n",
    "         os.path.expanduser('~/data/PASCAL-Context/context_labels_59_train_lmdb'),\n",
    "         os.path.expanduser('~/data/PASCAL-Context/context_labels_59_val_lmdb')\n",
    "         ]\n",
    "         \n",
    "for p in paths:\n",
    "    count = 0\n",
    "    with lmdb.open(p, readonly=True).begin() as txn:\n",
    "        for key, _ in txn.cursor():\n",
    "            count += 1\n",
    "\n",
    "    print(\"%d samples in %s\" % (count, p))"
   ]
  },
  {
   "cell_type": "markdown",
   "metadata": {},
   "source": [
    "list of image sizes"
   ]
  },
  {
   "cell_type": "code",
   "execution_count": 14,
   "metadata": {
    "collapsed": false
   },
   "outputs": [
    {
     "name": "stdout",
     "output_type": "stream",
     "text": [
      "2\n"
     ]
    }
   ],
   "source": [
    "import lmdb\n",
    "import os\n",
    "import read_lmdb\n",
    "\n",
    "paths = [os.path.expanduser('~/data/PASCAL-Context/context_imgs_train_lmdb'),\n",
    "         os.path.expanduser('~/data/PASCAL-Context/context_labels_59_train_lmdb'),\n",
    "         ]\n",
    "       \n",
    "shapes_db = []\n",
    "for p in paths:\n",
    "    shapes = []\n",
    "    with lmdb.open(p, readonly=True).begin() as txn:\n",
    "        for _, value in txn.cursor():\n",
    "            _, x = read_lmdb.unpack_raw_datum(value)\n",
    "            shapes.append(x.shape)\n",
    "    shapes_db.append(shapes)\n",
    "    \n",
    "print len(shapes_db)"
   ]
  },
  {
   "cell_type": "code",
   "execution_count": null,
   "metadata": {
    "collapsed": true
   },
   "outputs": [],
   "source": []
  }
 ],
 "metadata": {
  "kernelspec": {
   "display_name": "Python 2",
   "language": "python",
   "name": "python2"
  },
  "language_info": {
   "codemirror_mode": {
    "name": "ipython",
    "version": 2
   },
   "file_extension": ".py",
   "mimetype": "text/x-python",
   "name": "python",
   "nbconvert_exporter": "python",
   "pygments_lexer": "ipython2",
   "version": "2.7.3"
  }
 },
 "nbformat": 4,
 "nbformat_minor": 0
}
